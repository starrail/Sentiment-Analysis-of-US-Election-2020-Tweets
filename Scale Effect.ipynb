{
 "cells": [
  {
   "cell_type": "markdown",
   "metadata": {},
   "source": [
    "# Dataset"
   ]
  },
  {
   "cell_type": "code",
   "execution_count": 1,
   "metadata": {},
   "outputs": [],
   "source": [
    "from pyspark.sql import SparkSession\n",
    "import pandas as pd\n",
    "import re\n",
    "\n",
    "from textblob import TextBlob\n",
    "import plotly.graph_objects as go\n",
    "import matplotlib.pyplot as plt\n",
    "\n",
    "from sklearn.model_selection import train_test_split\n",
    "from sklearn.feature_extraction.text import CountVectorizer\n",
    "from sklearn.feature_extraction.text import TfidfTransformer\n",
    "import nltk\n",
    "from nltk.corpus import stopwords\n",
    "\n",
    "from time import time\n",
    "from sklearn.naive_bayes import MultinomialNB\n",
    "from sklearn.svm import LinearSVC\n",
    "from sklearn.ensemble import RandomForestClassifier\n",
    "from sklearn.linear_model import SGDClassifier\n",
    "from sklearn.metrics import classification_report"
   ]
  },
  {
   "cell_type": "code",
   "execution_count": 2,
   "metadata": {},
   "outputs": [],
   "source": [
    "spark = SparkSession.builder.appName('2020ElectionScale').getOrCreate()"
   ]
  },
  {
   "cell_type": "code",
   "execution_count": 3,
   "metadata": {},
   "outputs": [],
   "source": [
    "all_tweet = spark.read.csv('/Users/mosaic/Desktop/678 Project/all_tweets.csv',\n",
    "                       inferSchema=True,header=True)"
   ]
  },
  {
   "cell_type": "code",
   "execution_count": 4,
   "metadata": {},
   "outputs": [
    {
     "name": "stdout",
     "output_type": "stream",
     "text": [
      "root\n",
      " |-- _c0: string (nullable = true)\n",
      " |-- tweet: string (nullable = true)\n",
      "\n"
     ]
    }
   ],
   "source": [
    "all_tweet.printSchema()"
   ]
  },
  {
   "cell_type": "code",
   "execution_count": 5,
   "metadata": {},
   "outputs": [],
   "source": [
    "#select all tweet\n",
    "tweets = all_tweet.select('tweet').collect()\n",
    "\n",
    "#convert to dataframe\n",
    "tweet = pd.DataFrame(tweets)\n",
    "\n",
    "tweet.columns=['tweet']"
   ]
  },
  {
   "cell_type": "code",
   "execution_count": 6,
   "metadata": {},
   "outputs": [
    {
     "data": {
      "text/html": [
       "<div>\n",
       "<style scoped>\n",
       "    .dataframe tbody tr th:only-of-type {\n",
       "        vertical-align: middle;\n",
       "    }\n",
       "\n",
       "    .dataframe tbody tr th {\n",
       "        vertical-align: top;\n",
       "    }\n",
       "\n",
       "    .dataframe thead th {\n",
       "        text-align: right;\n",
       "    }\n",
       "</style>\n",
       "<table border=\"1\" class=\"dataframe\">\n",
       "  <thead>\n",
       "    <tr style=\"text-align: right;\">\n",
       "      <th></th>\n",
       "      <th>tweet</th>\n",
       "    </tr>\n",
       "  </thead>\n",
       "  <tbody>\n",
       "    <tr>\n",
       "      <th>0</th>\n",
       "      <td>#Elecciones2020 | En #Florida: #JoeBiden dice ...</td>\n",
       "    </tr>\n",
       "    <tr>\n",
       "      <th>1</th>\n",
       "      <td>None</td>\n",
       "    </tr>\n",
       "    <tr>\n",
       "      <th>2</th>\n",
       "      <td>None</td>\n",
       "    </tr>\n",
       "    <tr>\n",
       "      <th>3</th>\n",
       "      <td>None</td>\n",
       "    </tr>\n",
       "    <tr>\n",
       "      <th>4</th>\n",
       "      <td>None</td>\n",
       "    </tr>\n",
       "  </tbody>\n",
       "</table>\n",
       "</div>"
      ],
      "text/plain": [
       "                                               tweet\n",
       "0  #Elecciones2020 | En #Florida: #JoeBiden dice ...\n",
       "1                                               None\n",
       "2                                               None\n",
       "3                                               None\n",
       "4                                               None"
      ]
     },
     "execution_count": 6,
     "metadata": {},
     "output_type": "execute_result"
    }
   ],
   "source": [
    "tweet.head(5)"
   ]
  },
  {
   "cell_type": "code",
   "execution_count": 7,
   "metadata": {},
   "outputs": [],
   "source": [
    "df = pd.read_csv('/Users/mosaic/Desktop/678 Project/all_tweets.csv', lineterminator='\\n')"
   ]
  },
  {
   "cell_type": "code",
   "execution_count": 8,
   "metadata": {},
   "outputs": [],
   "source": [
    "tweet = df['tweet'].to_frame()"
   ]
  },
  {
   "cell_type": "code",
   "execution_count": 10,
   "metadata": {},
   "outputs": [],
   "source": [
    "#clean text\n",
    "def clean(text):\n",
    "    '''Make text lowercase, remove text in square brackets,remove links,remove punctuation\n",
    "    and remove words containing numbers.'''\n",
    "    text = str(text).lower()\n",
    "    text = re.sub('\\[.*?\\]', '', text)\n",
    "    text = re.sub('https?://\\S+|www\\.\\S+', '', text)\n",
    "    text = re.sub('<.*?>+', '', text)\n",
    "    text = re.sub('\\n', '', text)\n",
    "    text = re.sub('\\w*\\d\\w*', '', text)\n",
    "    text=re.sub(r'@[A-Za-z0-9]+','',text)\n",
    "    text=re.sub(r'#','',text)\n",
    "    text=re.sub(r'RT[\\s]+','',text)\n",
    "    text=re.sub(r'[^\\w]', ' ', text)\n",
    "    return text"
   ]
  },
  {
   "cell_type": "code",
   "execution_count": 11,
   "metadata": {},
   "outputs": [
    {
     "name": "stdout",
     "output_type": "stream",
     "text": [
      "run time: 100.4984221458435\n"
     ]
    }
   ],
   "source": [
    "start = time()\n",
    "tweet['clear_tweet']=tweet['tweet'].apply(clean)\n",
    "print(f\"run time: {time() - start}\")"
   ]
  },
  {
   "cell_type": "code",
   "execution_count": 12,
   "metadata": {},
   "outputs": [
    {
     "data": {
      "text/plain": [
       "tweet          0\n",
       "clear_tweet    0\n",
       "dtype: int64"
      ]
     },
     "execution_count": 12,
     "metadata": {},
     "output_type": "execute_result"
    }
   ],
   "source": [
    "#check null values\n",
    "tweet.isnull().sum()"
   ]
  },
  {
   "cell_type": "code",
   "execution_count": 13,
   "metadata": {},
   "outputs": [
    {
     "data": {
      "text/html": [
       "<div>\n",
       "<style scoped>\n",
       "    .dataframe tbody tr th:only-of-type {\n",
       "        vertical-align: middle;\n",
       "    }\n",
       "\n",
       "    .dataframe tbody tr th {\n",
       "        vertical-align: top;\n",
       "    }\n",
       "\n",
       "    .dataframe thead th {\n",
       "        text-align: right;\n",
       "    }\n",
       "</style>\n",
       "<table border=\"1\" class=\"dataframe\">\n",
       "  <thead>\n",
       "    <tr style=\"text-align: right;\">\n",
       "      <th></th>\n",
       "      <th>tweet</th>\n",
       "      <th>clear_tweet</th>\n",
       "    </tr>\n",
       "  </thead>\n",
       "  <tbody>\n",
       "    <tr>\n",
       "      <th>0</th>\n",
       "      <td>#Elecciones2020 | En #Florida: #JoeBiden dice ...</td>\n",
       "      <td>en florida  joebiden dice que donaldtrump s...</td>\n",
       "    </tr>\n",
       "    <tr>\n",
       "      <th>1</th>\n",
       "      <td>#HunterBiden #HunterBidenEmails #JoeBiden #Joe...</td>\n",
       "      <td>hunterbiden hunterbidenemails joebiden joebide...</td>\n",
       "    </tr>\n",
       "    <tr>\n",
       "      <th>2</th>\n",
       "      <td>@IslandGirlPRV @BradBeauregardJ @MeidasTouch T...</td>\n",
       "      <td>this is how biden made his   trumpisnotamer...</td>\n",
       "    </tr>\n",
       "    <tr>\n",
       "      <th>3</th>\n",
       "      <td>@chrislongview Watching and setting dvr. Let’s...</td>\n",
       "      <td>watching and setting dvr  let s give him bonu...</td>\n",
       "    </tr>\n",
       "    <tr>\n",
       "      <th>4</th>\n",
       "      <td>#censorship #HunterBiden #Biden #BidenEmails #...</td>\n",
       "      <td>censorship hunterbiden biden bidenemails biden...</td>\n",
       "    </tr>\n",
       "  </tbody>\n",
       "</table>\n",
       "</div>"
      ],
      "text/plain": [
       "                                               tweet  \\\n",
       "0  #Elecciones2020 | En #Florida: #JoeBiden dice ...   \n",
       "1  #HunterBiden #HunterBidenEmails #JoeBiden #Joe...   \n",
       "2  @IslandGirlPRV @BradBeauregardJ @MeidasTouch T...   \n",
       "3  @chrislongview Watching and setting dvr. Let’s...   \n",
       "4  #censorship #HunterBiden #Biden #BidenEmails #...   \n",
       "\n",
       "                                         clear_tweet  \n",
       "0     en florida  joebiden dice que donaldtrump s...  \n",
       "1  hunterbiden hunterbidenemails joebiden joebide...  \n",
       "2     this is how biden made his   trumpisnotamer...  \n",
       "3   watching and setting dvr  let s give him bonu...  \n",
       "4  censorship hunterbiden biden bidenemails biden...  "
      ]
     },
     "execution_count": 13,
     "metadata": {},
     "output_type": "execute_result"
    }
   ],
   "source": [
    "tweet.head(5)"
   ]
  },
  {
   "cell_type": "code",
   "execution_count": 14,
   "metadata": {},
   "outputs": [
    {
     "data": {
      "text/plain": [
       "(1747805, 2)"
      ]
     },
     "execution_count": 14,
     "metadata": {},
     "output_type": "execute_result"
    }
   ],
   "source": [
    "tweet.shape"
   ]
  },
  {
   "cell_type": "markdown",
   "metadata": {},
   "source": [
    "# Sentimental Analysis"
   ]
  },
  {
   "cell_type": "code",
   "execution_count": 15,
   "metadata": {},
   "outputs": [],
   "source": [
    "# create fuction to get the subjectivity and polarity\n",
    "def getSubjectivity(text):\n",
    "    return TextBlob(text).sentiment.subjectivity\n",
    "\n",
    "def getPolarity(text):\n",
    "    return TextBlob(text).sentiment.polarity\n",
    "\n",
    "def getAnalysis(score):\n",
    "    if score < 0:\n",
    "        return 'negative'\n",
    "    elif score==0:\n",
    "        return 'neutral'\n",
    "    else:\n",
    "        return 'positive'"
   ]
  },
  {
   "cell_type": "code",
   "execution_count": 16,
   "metadata": {},
   "outputs": [
    {
     "name": "stdout",
     "output_type": "stream",
     "text": [
      "run time: 3380.01486492157\n"
     ]
    }
   ],
   "source": [
    "start = time()\n",
    "tweet['subjectivity']= tweet['clear_tweet'].apply(getSubjectivity)\n",
    "tweet['polarity']    = tweet['clear_tweet'].apply(getPolarity)\n",
    "tweet['analysis']    = tweet['polarity'].apply(getAnalysis)\n",
    "print(f\"run time: {time() - start}\")"
   ]
  },
  {
   "cell_type": "code",
   "execution_count": 17,
   "metadata": {},
   "outputs": [
    {
     "data": {
      "text/html": [
       "<div>\n",
       "<style scoped>\n",
       "    .dataframe tbody tr th:only-of-type {\n",
       "        vertical-align: middle;\n",
       "    }\n",
       "\n",
       "    .dataframe tbody tr th {\n",
       "        vertical-align: top;\n",
       "    }\n",
       "\n",
       "    .dataframe thead th {\n",
       "        text-align: right;\n",
       "    }\n",
       "</style>\n",
       "<table border=\"1\" class=\"dataframe\">\n",
       "  <thead>\n",
       "    <tr style=\"text-align: right;\">\n",
       "      <th></th>\n",
       "      <th>tweet</th>\n",
       "      <th>clear_tweet</th>\n",
       "      <th>subjectivity</th>\n",
       "      <th>polarity</th>\n",
       "      <th>analysis</th>\n",
       "    </tr>\n",
       "  </thead>\n",
       "  <tbody>\n",
       "    <tr>\n",
       "      <th>0</th>\n",
       "      <td>#Elecciones2020 | En #Florida: #JoeBiden dice ...</td>\n",
       "      <td>en florida  joebiden dice que donaldtrump s...</td>\n",
       "      <td>0.000000</td>\n",
       "      <td>0.000000</td>\n",
       "      <td>neutral</td>\n",
       "    </tr>\n",
       "    <tr>\n",
       "      <th>1</th>\n",
       "      <td>#HunterBiden #HunterBidenEmails #JoeBiden #Joe...</td>\n",
       "      <td>hunterbiden hunterbidenemails joebiden joebide...</td>\n",
       "      <td>0.000000</td>\n",
       "      <td>0.000000</td>\n",
       "      <td>neutral</td>\n",
       "    </tr>\n",
       "    <tr>\n",
       "      <th>2</th>\n",
       "      <td>@IslandGirlPRV @BradBeauregardJ @MeidasTouch T...</td>\n",
       "      <td>this is how biden made his   trumpisnotamer...</td>\n",
       "      <td>0.000000</td>\n",
       "      <td>0.000000</td>\n",
       "      <td>neutral</td>\n",
       "    </tr>\n",
       "    <tr>\n",
       "      <th>3</th>\n",
       "      <td>@chrislongview Watching and setting dvr. Let’s...</td>\n",
       "      <td>watching and setting dvr  let s give him bonu...</td>\n",
       "      <td>0.000000</td>\n",
       "      <td>0.000000</td>\n",
       "      <td>neutral</td>\n",
       "    </tr>\n",
       "    <tr>\n",
       "      <th>4</th>\n",
       "      <td>#censorship #HunterBiden #Biden #BidenEmails #...</td>\n",
       "      <td>censorship hunterbiden biden bidenemails biden...</td>\n",
       "      <td>0.000000</td>\n",
       "      <td>0.000000</td>\n",
       "      <td>neutral</td>\n",
       "    </tr>\n",
       "    <tr>\n",
       "      <th>5</th>\n",
       "      <td>\"IS THIS WRONG??!!\" Cory Booker's BRILLIANT Fi...</td>\n",
       "      <td>is this wrong      cory booker s brilliant fi...</td>\n",
       "      <td>0.966667</td>\n",
       "      <td>0.133333</td>\n",
       "      <td>positive</td>\n",
       "    </tr>\n",
       "  </tbody>\n",
       "</table>\n",
       "</div>"
      ],
      "text/plain": [
       "                                               tweet  \\\n",
       "0  #Elecciones2020 | En #Florida: #JoeBiden dice ...   \n",
       "1  #HunterBiden #HunterBidenEmails #JoeBiden #Joe...   \n",
       "2  @IslandGirlPRV @BradBeauregardJ @MeidasTouch T...   \n",
       "3  @chrislongview Watching and setting dvr. Let’s...   \n",
       "4  #censorship #HunterBiden #Biden #BidenEmails #...   \n",
       "5  \"IS THIS WRONG??!!\" Cory Booker's BRILLIANT Fi...   \n",
       "\n",
       "                                         clear_tweet  subjectivity  polarity  \\\n",
       "0     en florida  joebiden dice que donaldtrump s...      0.000000  0.000000   \n",
       "1  hunterbiden hunterbidenemails joebiden joebide...      0.000000  0.000000   \n",
       "2     this is how biden made his   trumpisnotamer...      0.000000  0.000000   \n",
       "3   watching and setting dvr  let s give him bonu...      0.000000  0.000000   \n",
       "4  censorship hunterbiden biden bidenemails biden...      0.000000  0.000000   \n",
       "5   is this wrong      cory booker s brilliant fi...      0.966667  0.133333   \n",
       "\n",
       "   analysis  \n",
       "0   neutral  \n",
       "1   neutral  \n",
       "2   neutral  \n",
       "3   neutral  \n",
       "4   neutral  \n",
       "5  positive  "
      ]
     },
     "execution_count": 17,
     "metadata": {},
     "output_type": "execute_result"
    }
   ],
   "source": [
    "tweet.head(6)"
   ]
  },
  {
   "cell_type": "markdown",
   "metadata": {},
   "source": [
    "# Different Scales"
   ]
  },
  {
   "cell_type": "code",
   "execution_count": 18,
   "metadata": {},
   "outputs": [],
   "source": [
    "def label_y(target):\n",
    "    if target==\"neutral\":\n",
    "        return 0\n",
    "    elif target==\"positive\":\n",
    "        return 1\n",
    "    else:\n",
    "        return -1"
   ]
  },
  {
   "cell_type": "code",
   "execution_count": 23,
   "metadata": {},
   "outputs": [],
   "source": [
    "X = tweet['clear_tweet'] #clear text as X variable\n",
    "y = tweet['analysis'].apply(label_y)"
   ]
  },
  {
   "cell_type": "markdown",
   "metadata": {},
   "source": [
    "## 30% for Test"
   ]
  },
  {
   "cell_type": "code",
   "execution_count": 24,
   "metadata": {},
   "outputs": [],
   "source": [
    "#split dataset: test size is 0.3\n",
    "X_train, X_test, y_train, y_test = train_test_split(X, y, test_size=0.3, random_state=42)"
   ]
  },
  {
   "cell_type": "markdown",
   "metadata": {},
   "source": [
    "### Transform"
   ]
  },
  {
   "cell_type": "code",
   "execution_count": 25,
   "metadata": {},
   "outputs": [
    {
     "name": "stdout",
     "output_type": "stream",
     "text": [
      "run time: 196.39591598510742\n"
     ]
    }
   ],
   "source": [
    "start_trans = time()\n",
    "counter = CountVectorizer(stop_words=stopwords.words('english'))\n",
    "X_train=counter.fit_transform(X_train)\n",
    "X_test=counter.transform(X_test)\n",
    "\n",
    "tf = TfidfTransformer()\n",
    "X_train = tf.fit_transform(X_train)\n",
    "X_test = tf.transform(X_test)\n",
    "print(f\"run time: {time() - start_trans}\")"
   ]
  },
  {
   "cell_type": "markdown",
   "metadata": {},
   "source": [
    "### MultinomialNB Model"
   ]
  },
  {
   "cell_type": "code",
   "execution_count": 26,
   "metadata": {},
   "outputs": [
    {
     "name": "stdout",
     "output_type": "stream",
     "text": [
      "Multinomial NB Model finished, run time: 0.9273631572723389\n",
      "\n",
      "\n",
      "classification report：               precision    recall  f1-score   support\n",
      "\n",
      "     neutral       0.95      0.20      0.33     77861\n",
      "    positive       0.94      0.77      0.85    290932\n",
      "    negative       0.54      0.94      0.69    155549\n",
      "\n",
      "    accuracy                           0.74    524342\n",
      "   macro avg       0.81      0.64      0.62    524342\n",
      "weighted avg       0.82      0.74      0.72    524342\n",
      "\n"
     ]
    }
   ],
   "source": [
    "MNB_start = time()\n",
    "MNB_model = MultinomialNB().fit(X_train, y_train)\n",
    "MNB_pre = MNB_model.predict(X_test)\n",
    "MNB_time = time() - MNB_start\n",
    "print(f\"Multinomial NB Model finished, run time: {MNB_time}\")\n",
    "target_names=[\"neutral\",\"positive\",\"negative\"]\n",
    "print('\\n')\n",
    "print(\"classification report：\", classification_report(y_test, MNB_pre, target_names=target_names))"
   ]
  },
  {
   "cell_type": "code",
   "execution_count": 27,
   "metadata": {},
   "outputs": [],
   "source": [
    "MNB_accuracy = MNB_model.score(X_test,y_test)"
   ]
  },
  {
   "cell_type": "markdown",
   "metadata": {},
   "source": [
    "### Linear SVC Model"
   ]
  },
  {
   "cell_type": "code",
   "execution_count": 28,
   "metadata": {},
   "outputs": [
    {
     "name": "stdout",
     "output_type": "stream",
     "text": [
      "Linear SVC Model finished, run time: 76.83320808410645\n",
      "classification report：               precision    recall  f1-score   support\n",
      "\n",
      "     neutral       0.91      0.87      0.89     77861\n",
      "    positive       0.96      0.99      0.98    290932\n",
      "    negative       0.95      0.92      0.94    155549\n",
      "\n",
      "    accuracy                           0.95    524342\n",
      "   macro avg       0.94      0.93      0.93    524342\n",
      "weighted avg       0.95      0.95      0.95    524342\n",
      "\n"
     ]
    }
   ],
   "source": [
    "LSVC_start = time()\n",
    "LSVC_model = LinearSVC().fit(X_train,y_train)\n",
    "LSVC_pre = LSVC_model.predict(X_test)\n",
    "LSVC_time = time() - LSVC_start\n",
    "print(f\"Linear SVC Model finished, run time: {LSVC_time}\")\n",
    "target_names=[\"neutral\",\"positive\",\"negative\"]\n",
    "print(\"classification report：\", classification_report(y_test, LSVC_pre, target_names=target_names))"
   ]
  },
  {
   "cell_type": "code",
   "execution_count": 29,
   "metadata": {},
   "outputs": [],
   "source": [
    "LSVC_accuracy = LSVC_model.score(X_test,y_test)"
   ]
  },
  {
   "cell_type": "markdown",
   "metadata": {},
   "source": [
    "### SGD Classifier"
   ]
  },
  {
   "cell_type": "code",
   "execution_count": 30,
   "metadata": {},
   "outputs": [
    {
     "name": "stdout",
     "output_type": "stream",
     "text": [
      "Linear SVC Model finished, run time: 14.535693645477295\n",
      "classification report：               precision    recall  f1-score   support\n",
      "\n",
      "     neutral       0.90      0.49      0.64     77861\n",
      "    positive       0.82      0.99      0.90    290932\n",
      "    negative       0.90      0.75      0.82    155549\n",
      "\n",
      "    accuracy                           0.85    524342\n",
      "   macro avg       0.87      0.74      0.78    524342\n",
      "weighted avg       0.85      0.85      0.83    524342\n",
      "\n"
     ]
    }
   ],
   "source": [
    "SGD_start = time()\n",
    "SGD_model = SGDClassifier().fit(X_train, y_train)\n",
    "SGD_pre = SGD_model.predict(X_test)\n",
    "SGD_time = time() - SGD_start\n",
    "print(f\"Linear SVC Model finished, run time: {SGD_time}\")\n",
    "target_names=[\"neutral\",\"positive\",\"negative\"]\n",
    "print(\"classification report：\", classification_report(y_test, SGD_pre, target_names=target_names))"
   ]
  },
  {
   "cell_type": "code",
   "execution_count": 31,
   "metadata": {},
   "outputs": [],
   "source": [
    "SGD_accuracy = SGD_model.score(X_test,y_test)"
   ]
  },
  {
   "cell_type": "markdown",
   "metadata": {},
   "source": [
    "## 20% for Test"
   ]
  },
  {
   "cell_type": "code",
   "execution_count": 32,
   "metadata": {},
   "outputs": [
    {
     "name": "stdout",
     "output_type": "stream",
     "text": [
      "run time: 64.02316403388977\n"
     ]
    }
   ],
   "source": [
    "#split dataset: test size is 0.2\n",
    "X = tweet['clear_tweet']\n",
    "y = tweet['analysis'].apply(label_y)\n",
    "X_train1, X_test1, y_train1, y_test1 = train_test_split(X, y, test_size=0.2, random_state=42)\n",
    "\n",
    "start_trans = time()\n",
    "X_train1=counter.fit_transform(X_train1)\n",
    "X_test1=counter.transform(X_test1)\n",
    "\n",
    "X_train1 = tf.fit_transform(X_train1)\n",
    "X_test1 = tf.transform(X_test1)\n",
    "print(f\"run time: {time() - start_trans}\")"
   ]
  },
  {
   "cell_type": "markdown",
   "metadata": {},
   "source": [
    "### MNB Model"
   ]
  },
  {
   "cell_type": "code",
   "execution_count": 33,
   "metadata": {},
   "outputs": [
    {
     "name": "stdout",
     "output_type": "stream",
     "text": [
      "Multinomial NB Model finished, run time: 1.0319609642028809\n",
      "\n",
      "\n",
      "classification report：               precision    recall  f1-score   support\n",
      "\n",
      "     neutral       0.94      0.21      0.35     51786\n",
      "    positive       0.94      0.77      0.85    193914\n",
      "    negative       0.54      0.94      0.69    103861\n",
      "\n",
      "    accuracy                           0.74    349561\n",
      "   macro avg       0.81      0.64      0.63    349561\n",
      "weighted avg       0.82      0.74      0.73    349561\n",
      "\n"
     ]
    }
   ],
   "source": [
    "MNB_start1 = time()\n",
    "MNB_model1 = MultinomialNB().fit(X_train1, y_train1)\n",
    "MNB_pre1 = MNB_model1.predict(X_test1)\n",
    "MNB_time1 = time() - MNB_start1\n",
    "print(f\"Multinomial NB Model finished, run time: {MNB_time1}\")\n",
    "target_names=[\"neutral\",\"positive\",\"negative\"]\n",
    "print('\\n')\n",
    "print(\"classification report：\", classification_report(y_test1, MNB_pre1, target_names=target_names))"
   ]
  },
  {
   "cell_type": "code",
   "execution_count": 34,
   "metadata": {},
   "outputs": [],
   "source": [
    "MNB_accuracy1 = MNB_model1.score(X_test1,y_test1)"
   ]
  },
  {
   "cell_type": "markdown",
   "metadata": {},
   "source": [
    "### LSVC Model"
   ]
  },
  {
   "cell_type": "code",
   "execution_count": 35,
   "metadata": {},
   "outputs": [
    {
     "name": "stdout",
     "output_type": "stream",
     "text": [
      "Linear SVC Model finished, run time: 86.1276490688324\n",
      "classification report：               precision    recall  f1-score   support\n",
      "\n",
      "     neutral       0.92      0.87      0.89     51786\n",
      "    positive       0.96      0.99      0.98    193914\n",
      "    negative       0.95      0.92      0.94    103861\n",
      "\n",
      "    accuracy                           0.95    349561\n",
      "   macro avg       0.94      0.93      0.94    349561\n",
      "weighted avg       0.95      0.95      0.95    349561\n",
      "\n"
     ]
    }
   ],
   "source": [
    "LSVC_start1 = time()\n",
    "LSVC_model1 = LinearSVC().fit(X_train1,y_train1)\n",
    "LSVC_pre1 = LSVC_model1.predict(X_test1)\n",
    "LSVC_time1 = time() - LSVC_start1\n",
    "print(f\"Linear SVC Model finished, run time: {LSVC_time1}\")\n",
    "target_names=[\"neutral\",\"positive\",\"negative\"]\n",
    "print(\"classification report：\", classification_report(y_test1, LSVC_pre1, target_names=target_names))"
   ]
  },
  {
   "cell_type": "code",
   "execution_count": 36,
   "metadata": {},
   "outputs": [],
   "source": [
    "LSVC_accuracy1 = LSVC_model1.score(X_test1,y_test1)"
   ]
  },
  {
   "cell_type": "markdown",
   "metadata": {},
   "source": [
    "### SGD Classifier"
   ]
  },
  {
   "cell_type": "code",
   "execution_count": 37,
   "metadata": {},
   "outputs": [
    {
     "name": "stdout",
     "output_type": "stream",
     "text": [
      "Linear SVC Model finished, run time: 15.049077987670898\n",
      "classification report：               precision    recall  f1-score   support\n",
      "\n",
      "     neutral       0.90      0.49      0.64     51786\n",
      "    positive       0.82      0.99      0.90    193914\n",
      "    negative       0.90      0.75      0.82    103861\n",
      "\n",
      "    accuracy                           0.85    349561\n",
      "   macro avg       0.87      0.74      0.78    349561\n",
      "weighted avg       0.85      0.85      0.83    349561\n",
      "\n"
     ]
    }
   ],
   "source": [
    "SGD_start1 = time()\n",
    "SGD_model1 = SGDClassifier().fit(X_train1, y_train1)\n",
    "SGD_pre1 = SGD_model1.predict(X_test1)\n",
    "SGD_time1 = time() - SGD_start1\n",
    "print(f\"Linear SVC Model finished, run time: {SGD_time1}\")\n",
    "target_names=[\"neutral\",\"positive\",\"negative\"]\n",
    "print(\"classification report：\", classification_report(y_test1, SGD_pre1, target_names=target_names))"
   ]
  },
  {
   "cell_type": "code",
   "execution_count": 38,
   "metadata": {},
   "outputs": [],
   "source": [
    "SGD_accuracy1 = SGD_model1.score(X_test1,y_test1)"
   ]
  },
  {
   "cell_type": "markdown",
   "metadata": {},
   "source": [
    "## 50% for Test"
   ]
  },
  {
   "cell_type": "code",
   "execution_count": 39,
   "metadata": {},
   "outputs": [
    {
     "name": "stdout",
     "output_type": "stream",
     "text": [
      "run time: 54.493125915527344\n"
     ]
    }
   ],
   "source": [
    "#split dataset: test size is 0.5\n",
    "X = tweet['clear_tweet']\n",
    "y = tweet['analysis'].apply(label_y)\n",
    "X_train2, X_test2, y_train2, y_test2 = train_test_split(X, y, test_size=0.5, random_state=42)\n",
    "\n",
    "start_trans = time()\n",
    "X_train2=counter.fit_transform(X_train2)\n",
    "X_test2=counter.transform(X_test2)\n",
    "\n",
    "X_train2 = tf.fit_transform(X_train2)\n",
    "X_test2 = tf.transform(X_test2)\n",
    "print(f\"run time: {time() - start_trans}\")"
   ]
  },
  {
   "cell_type": "markdown",
   "metadata": {},
   "source": [
    "### MNB Model"
   ]
  },
  {
   "cell_type": "code",
   "execution_count": 40,
   "metadata": {},
   "outputs": [
    {
     "name": "stdout",
     "output_type": "stream",
     "text": [
      "Multinomial NB Model finished, run time: 0.6796929836273193\n",
      "\n",
      "\n",
      "classification report：               precision    recall  f1-score   support\n",
      "\n",
      "     neutral       0.95      0.18      0.30    129882\n",
      "    positive       0.94      0.78      0.85    485449\n",
      "    negative       0.54      0.94      0.68    258572\n",
      "\n",
      "    accuracy                           0.73    873903\n",
      "   macro avg       0.81      0.63      0.61    873903\n",
      "weighted avg       0.82      0.73      0.72    873903\n",
      "\n"
     ]
    }
   ],
   "source": [
    "MNB_start2 = time()\n",
    "MNB_model2 = MultinomialNB().fit(X_train2, y_train2)\n",
    "MNB_pre2 = MNB_model2.predict(X_test2)\n",
    "MNB_time2 = time() - MNB_start2\n",
    "print(f\"Multinomial NB Model finished, run time: {MNB_time2}\")\n",
    "target_names=[\"neutral\",\"positive\",\"negative\"]\n",
    "print('\\n')\n",
    "print(\"classification report：\", classification_report(y_test2, MNB_pre2, target_names=target_names))"
   ]
  },
  {
   "cell_type": "code",
   "execution_count": 41,
   "metadata": {},
   "outputs": [],
   "source": [
    "MNB_accuracy2 = MNB_model2.score(X_test2,y_test2)"
   ]
  },
  {
   "cell_type": "markdown",
   "metadata": {},
   "source": [
    "### LSVC"
   ]
  },
  {
   "cell_type": "code",
   "execution_count": 42,
   "metadata": {},
   "outputs": [
    {
     "name": "stdout",
     "output_type": "stream",
     "text": [
      "Linear SVC Model finished, run time: 53.399697065353394\n",
      "classification report：               precision    recall  f1-score   support\n",
      "\n",
      "     neutral       0.91      0.87      0.89    129882\n",
      "    positive       0.96      0.99      0.97    485449\n",
      "    negative       0.95      0.92      0.93    258572\n",
      "\n",
      "    accuracy                           0.95    873903\n",
      "   macro avg       0.94      0.92      0.93    873903\n",
      "weighted avg       0.95      0.95      0.95    873903\n",
      "\n"
     ]
    }
   ],
   "source": [
    "LSVC_start2 = time()\n",
    "LSVC_model2 = LinearSVC().fit(X_train2,y_train2)\n",
    "LSVC_pre2 = LSVC_model2.predict(X_test2)\n",
    "LSVC_time2 = time() - LSVC_start2\n",
    "print(f\"Linear SVC Model finished, run time: {LSVC_time2}\")\n",
    "target_names=[\"neutral\",\"positive\",\"negative\"]\n",
    "print(\"classification report：\", classification_report(y_test2, LSVC_pre2, target_names=target_names))"
   ]
  },
  {
   "cell_type": "code",
   "execution_count": 43,
   "metadata": {},
   "outputs": [],
   "source": [
    "LSVC_accuracy2 = LSVC_model2.score(X_test2,y_test2)"
   ]
  },
  {
   "cell_type": "markdown",
   "metadata": {},
   "source": [
    "### SGD classifier"
   ]
  },
  {
   "cell_type": "code",
   "execution_count": 44,
   "metadata": {},
   "outputs": [
    {
     "name": "stdout",
     "output_type": "stream",
     "text": [
      "Linear SVC Model finished, run time: 11.662014961242676\n",
      "classification report：               precision    recall  f1-score   support\n",
      "\n",
      "     neutral       0.90      0.50      0.64    129882\n",
      "    positive       0.82      0.99      0.90    485449\n",
      "    negative       0.89      0.75      0.82    258572\n",
      "\n",
      "    accuracy                           0.85    873903\n",
      "   macro avg       0.87      0.75      0.79    873903\n",
      "weighted avg       0.86      0.85      0.84    873903\n",
      "\n"
     ]
    }
   ],
   "source": [
    "SGD_start2 = time()\n",
    "SGD_model2 = SGDClassifier().fit(X_train2, y_train2)\n",
    "SGD_pre2 = SGD_model2.predict(X_test2)\n",
    "SGD_time2 = time() - SGD_start2\n",
    "print(f\"Linear SVC Model finished, run time: {SGD_time2}\")\n",
    "target_names=[\"neutral\",\"positive\",\"negative\"]\n",
    "print(\"classification report：\", classification_report(y_test2, SGD_pre2, target_names=target_names))"
   ]
  },
  {
   "cell_type": "code",
   "execution_count": 45,
   "metadata": {},
   "outputs": [],
   "source": [
    "SGD_accuracy2 = SGD_model2.score(X_test2,y_test2)"
   ]
  },
  {
   "cell_type": "markdown",
   "metadata": {},
   "source": [
    "## 70% for Test"
   ]
  },
  {
   "cell_type": "code",
   "execution_count": 46,
   "metadata": {},
   "outputs": [
    {
     "name": "stdout",
     "output_type": "stream",
     "text": [
      "run time: 56.33349823951721\n"
     ]
    }
   ],
   "source": [
    "#split dataset: test size is 0.7\n",
    "X = tweet['clear_tweet']\n",
    "y = tweet['analysis'].apply(label_y)\n",
    "X_train3, X_test3, y_train3, y_test3 = train_test_split(X, y, test_size=0.7, random_state=42)\n",
    "\n",
    "start_trans = time()\n",
    "X_train3=counter.fit_transform(X_train3)\n",
    "X_test3=counter.transform(X_test3)\n",
    "\n",
    "X_train3 = tf.fit_transform(X_train3)\n",
    "X_test3 = tf.transform(X_test3)\n",
    "print(f\"run time: {time() - start_trans}\")"
   ]
  },
  {
   "cell_type": "markdown",
   "metadata": {},
   "source": [
    "### MNB Model"
   ]
  },
  {
   "cell_type": "code",
   "execution_count": 47,
   "metadata": {},
   "outputs": [
    {
     "name": "stdout",
     "output_type": "stream",
     "text": [
      "Multinomial NB Model finished, run time: 0.7848868370056152\n",
      "\n",
      "\n",
      "classification report：               precision    recall  f1-score   support\n",
      "\n",
      "     neutral       0.96      0.15      0.26    181761\n",
      "    positive       0.94      0.78      0.85    679647\n",
      "    negative       0.54      0.93      0.68    362056\n",
      "\n",
      "    accuracy                           0.73   1223464\n",
      "   macro avg       0.81      0.62      0.60   1223464\n",
      "weighted avg       0.82      0.73      0.71   1223464\n",
      "\n"
     ]
    }
   ],
   "source": [
    "MNB_start3 = time()\n",
    "MNB_model3 = MultinomialNB().fit(X_train3, y_train3)\n",
    "MNB_pre3 = MNB_model3.predict(X_test3)\n",
    "MNB_time3 = time() - MNB_start3\n",
    "print(f\"Multinomial NB Model finished, run time: {MNB_time3}\")\n",
    "target_names=[\"neutral\",\"positive\",\"negative\"]\n",
    "print('\\n')\n",
    "print(\"classification report：\", classification_report(y_test3, MNB_pre3, target_names=target_names))"
   ]
  },
  {
   "cell_type": "code",
   "execution_count": 48,
   "metadata": {},
   "outputs": [],
   "source": [
    "MNB_accuracy3 = MNB_model3.score(X_test3,y_test3)"
   ]
  },
  {
   "cell_type": "markdown",
   "metadata": {},
   "source": [
    "### LSVC"
   ]
  },
  {
   "cell_type": "code",
   "execution_count": 49,
   "metadata": {},
   "outputs": [
    {
     "name": "stdout",
     "output_type": "stream",
     "text": [
      "Linear SVC Model finished, run time: 37.14210510253906\n",
      "classification report：               precision    recall  f1-score   support\n",
      "\n",
      "     neutral       0.91      0.85      0.88    181761\n",
      "    positive       0.96      0.99      0.97    679647\n",
      "    negative       0.95      0.91      0.93    362056\n",
      "\n",
      "    accuracy                           0.95   1223464\n",
      "   macro avg       0.94      0.92      0.93   1223464\n",
      "weighted avg       0.95      0.95      0.95   1223464\n",
      "\n"
     ]
    }
   ],
   "source": [
    "LSVC_start3 = time()\n",
    "LSVC_model3 = LinearSVC().fit(X_train3,y_train3)\n",
    "LSVC_pre3 = LSVC_model3.predict(X_test3)\n",
    "LSVC_time3 = time() - LSVC_start3\n",
    "print(f\"Linear SVC Model finished, run time: {LSVC_time3}\")\n",
    "target_names=[\"neutral\",\"positive\",\"negative\"]\n",
    "print(\"classification report：\", classification_report(y_test3, LSVC_pre3, target_names=target_names))"
   ]
  },
  {
   "cell_type": "code",
   "execution_count": 50,
   "metadata": {},
   "outputs": [],
   "source": [
    "LSVC_accuracy3 = LSVC_model3.score(X_test3,y_test3)"
   ]
  },
  {
   "cell_type": "markdown",
   "metadata": {},
   "source": [
    "### SGD Classifier"
   ]
  },
  {
   "cell_type": "code",
   "execution_count": 51,
   "metadata": {},
   "outputs": [
    {
     "name": "stdout",
     "output_type": "stream",
     "text": [
      "Linear SVC Model finished, run time: 5.609367847442627\n",
      "classification report：               precision    recall  f1-score   support\n",
      "\n",
      "     neutral       0.90      0.50      0.64    181761\n",
      "    positive       0.82      0.99      0.90    679647\n",
      "    negative       0.89      0.75      0.82    362056\n",
      "\n",
      "    accuracy                           0.85   1223464\n",
      "   macro avg       0.87      0.75      0.79   1223464\n",
      "weighted avg       0.86      0.85      0.84   1223464\n",
      "\n"
     ]
    }
   ],
   "source": [
    "SGD_start3 = time()\n",
    "SGD_model3 = SGDClassifier().fit(X_train3, y_train3)\n",
    "SGD_pre3 = SGD_model3.predict(X_test3)\n",
    "SGD_time3 = time() - SGD_start3\n",
    "print(f\"Linear SVC Model finished, run time: {SGD_time3}\")\n",
    "target_names=[\"neutral\",\"positive\",\"negative\"]\n",
    "print(\"classification report：\", classification_report(y_test3, SGD_pre3, target_names=target_names))"
   ]
  },
  {
   "cell_type": "code",
   "execution_count": 52,
   "metadata": {},
   "outputs": [],
   "source": [
    "SGD_accuracy3 = SGD_model3.score(X_test3,y_test3)"
   ]
  },
  {
   "cell_type": "markdown",
   "metadata": {},
   "source": [
    "## 80% for Test"
   ]
  },
  {
   "cell_type": "code",
   "execution_count": 53,
   "metadata": {},
   "outputs": [
    {
     "name": "stdout",
     "output_type": "stream",
     "text": [
      "run time: 57.428467988967896\n"
     ]
    }
   ],
   "source": [
    "#split dataset: test size is 0.8\n",
    "X = tweet['clear_tweet']\n",
    "y = tweet['analysis'].apply(label_y)\n",
    "X_train4, X_test4, y_train4, y_test4 = train_test_split(X, y, test_size=0.8, random_state=42)\n",
    "\n",
    "start_trans = time()\n",
    "X_train4=counter.fit_transform(X_train4)\n",
    "X_test4=counter.transform(X_test4)\n",
    "\n",
    "X_train4 = tf.fit_transform(X_train4)\n",
    "X_test4 = tf.transform(X_test4)\n",
    "print(f\"run time: {time() - start_trans}\")"
   ]
  },
  {
   "cell_type": "markdown",
   "metadata": {},
   "source": [
    "### MNB Model"
   ]
  },
  {
   "cell_type": "code",
   "execution_count": 54,
   "metadata": {},
   "outputs": [
    {
     "name": "stdout",
     "output_type": "stream",
     "text": [
      "Multinomial NB Model finished, run time: 0.6001579761505127\n",
      "\n",
      "\n",
      "classification report：               precision    recall  f1-score   support\n",
      "\n",
      "     neutral       0.97      0.13      0.23    207637\n",
      "    positive       0.93      0.79      0.86    776868\n",
      "    negative       0.54      0.93      0.69    413739\n",
      "\n",
      "    accuracy                           0.73   1398244\n",
      "   macro avg       0.81      0.62      0.59   1398244\n",
      "weighted avg       0.82      0.73      0.71   1398244\n",
      "\n"
     ]
    }
   ],
   "source": [
    "MNB_start4 = time()\n",
    "MNB_model4 = MultinomialNB().fit(X_train4, y_train4)\n",
    "MNB_pre4 = MNB_model4.predict(X_test4)\n",
    "MNB_time4 = time() - MNB_start4\n",
    "print(f\"Multinomial NB Model finished, run time: {MNB_time4}\")\n",
    "target_names=[\"neutral\",\"positive\",\"negative\"]\n",
    "print('\\n')\n",
    "print(\"classification report：\", classification_report(y_test4, MNB_pre4, target_names=target_names))"
   ]
  },
  {
   "cell_type": "code",
   "execution_count": 55,
   "metadata": {},
   "outputs": [],
   "source": [
    "MNB_accuracy4 = MNB_model4.score(X_test4,y_test4)"
   ]
  },
  {
   "cell_type": "markdown",
   "metadata": {},
   "source": [
    "### LSVC"
   ]
  },
  {
   "cell_type": "code",
   "execution_count": 56,
   "metadata": {},
   "outputs": [
    {
     "name": "stdout",
     "output_type": "stream",
     "text": [
      "Linear SVC Model finished, run time: 20.867680072784424\n",
      "classification report：               precision    recall  f1-score   support\n",
      "\n",
      "     neutral       0.90      0.84      0.87    207637\n",
      "    positive       0.95      0.99      0.97    776868\n",
      "    negative       0.94      0.91      0.92    413739\n",
      "\n",
      "    accuracy                           0.94   1398244\n",
      "   macro avg       0.93      0.91      0.92   1398244\n",
      "weighted avg       0.94      0.94      0.94   1398244\n",
      "\n"
     ]
    }
   ],
   "source": [
    "LSVC_start4 = time()\n",
    "LSVC_model4 = LinearSVC().fit(X_train4,y_train4)\n",
    "LSVC_pre4 = LSVC_model4.predict(X_test4)\n",
    "LSVC_time4 = time() - LSVC_start4\n",
    "print(f\"Linear SVC Model finished, run time: {LSVC_time4}\")\n",
    "target_names=[\"neutral\",\"positive\",\"negative\"]\n",
    "print(\"classification report：\", classification_report(y_test4, LSVC_pre4, target_names=target_names))"
   ]
  },
  {
   "cell_type": "code",
   "execution_count": 57,
   "metadata": {},
   "outputs": [],
   "source": [
    "LSVC_accuracy4 = LSVC_model4.score(X_test4,y_test4)"
   ]
  },
  {
   "cell_type": "markdown",
   "metadata": {},
   "source": [
    "### SGD Classifier"
   ]
  },
  {
   "cell_type": "code",
   "execution_count": 58,
   "metadata": {},
   "outputs": [
    {
     "name": "stdout",
     "output_type": "stream",
     "text": [
      "Linear SVC Model finished, run time: 4.566961765289307\n",
      "classification report：               precision    recall  f1-score   support\n",
      "\n",
      "     neutral       0.90      0.51      0.65    207637\n",
      "    positive       0.83      0.99      0.90    776868\n",
      "    negative       0.89      0.76      0.82    413739\n",
      "\n",
      "    accuracy                           0.85   1398244\n",
      "   macro avg       0.87      0.75      0.79   1398244\n",
      "weighted avg       0.86      0.85      0.84   1398244\n",
      "\n"
     ]
    }
   ],
   "source": [
    "SGD_start4 = time()\n",
    "SGD_model4 = SGDClassifier().fit(X_train4, y_train4)\n",
    "SGD_pre4 = SGD_model4.predict(X_test4)\n",
    "SGD_time4 = time() - SGD_start4\n",
    "print(f\"Linear SVC Model finished, run time: {SGD_time4}\")\n",
    "target_names=[\"neutral\",\"positive\",\"negative\"]\n",
    "print(\"classification report：\", classification_report(y_test4, SGD_pre4, target_names=target_names))"
   ]
  },
  {
   "cell_type": "code",
   "execution_count": 59,
   "metadata": {},
   "outputs": [],
   "source": [
    "SGD_accuracy4 = SGD_model4.score(X_test4,y_test4)"
   ]
  },
  {
   "cell_type": "markdown",
   "metadata": {},
   "source": [
    "# Scale vs. Time"
   ]
  },
  {
   "cell_type": "code",
   "execution_count": 60,
   "metadata": {},
   "outputs": [],
   "source": [
    "scale = [20, 30, 50, 70, 80] #training sample scale"
   ]
  },
  {
   "cell_type": "code",
   "execution_count": 61,
   "metadata": {},
   "outputs": [],
   "source": [
    "creat_time = {'MNB': [MNB_time4, MNB_time3, MNB_time2, MNB_time, MNB_time1],\n",
    "              'LSVC': [LSVC_time4, LSVC_time3, LSVC_time2, LSVC_time, LSVC_time1],\n",
    "              'SGD': [SGD_time4, SGD_time3, SGD_time2, SGD_time, SGD_time1]}\n",
    "time = pd.DataFrame(data=creat_time)"
   ]
  },
  {
   "cell_type": "code",
   "execution_count": 103,
   "metadata": {},
   "outputs": [
    {
     "data": {
      "image/png": "[encoded data removed]",
      "text/plain": [
       "<Figure size 1080x720 with 1 Axes>"
      ]
     },
     "metadata": {
      "needs_background": "light"
     },
     "output_type": "display_data"
    }
   ],
   "source": [
    "plt.figure(figsize=(15,10))\n",
    "plt.plot(scale, time['MNB'], label='Multinomial NB', marker='o')\n",
    "plt.plot(scale, time['LSVC'], label='Linear SVC', marker='o')\n",
    "plt.plot(scale, time['SGD'], label='SGD Classifier', marker='o')\n",
    "\n",
    "plt.xlabel('Training Scale(%)')\n",
    "plt.ylabel('Time(s)')\n",
    "plt.title('Scale vs. Time')\n",
    "plt.legend()\n",
    "\n",
    "# zip joins x and y coordinates in pairs\n",
    "for x,y in zip(scale,time['MNB']):\n",
    "\n",
    "    label = \"{:.3f}\".format(y)\n",
    "    \n",
    "    plt.annotate(label, # this is the text\n",
    "                 (x,y), # this is the point to label\n",
    "                 textcoords=\"offset points\", # how to position the text\n",
    "                 xytext=(0,-15), # distance from text to points (x,y)\n",
    "                 ha='center') # horizontal alignment can be left, right or center\n",
    "\n",
    "for x,y in zip(scale,time['LSVC']):\n",
    "    label = \"{:.3f}\".format(y)\n",
    "    plt.annotate(label,\n",
    "                 (x,y), \n",
    "                 textcoords=\"offset points\", \n",
    "                 xytext=(0,10), \n",
    "                 ha='center')\n",
    "    \n",
    "for x,y in zip(scale,time['SGD']):\n",
    "    label = \"{:.3f}\".format(y)\n",
    "    plt.annotate(label,\n",
    "                 (x,y), \n",
    "                 textcoords=\"offset points\", \n",
    "                 xytext=(0,10), \n",
    "                 ha='center')"
   ]
  },
  {
   "cell_type": "markdown",
   "metadata": {},
   "source": [
    "# Scale vs. Accuracy"
   ]
  },
  {
   "cell_type": "code",
   "execution_count": 63,
   "metadata": {},
   "outputs": [],
   "source": [
    "creat_accuracy = {'MNB': [MNB_accuracy4, MNB_accuracy3, MNB_accuracy2, MNB_accuracy, MNB_accuracy1],\n",
    "              'LSVC': [LSVC_accuracy4, LSVC_accuracy3, LSVC_accuracy2, LSVC_accuracy, LSVC_accuracy1],\n",
    "              'SGD': [SGD_accuracy4, SGD_accuracy3, SGD_accuracy2, SGD_accuracy, SGD_accuracy1]}\n",
    "accuracy = pd.DataFrame(data=creat_accuracy)"
   ]
  },
  {
   "cell_type": "code",
   "execution_count": 104,
   "metadata": {},
   "outputs": [
    {
     "data": {
      "image/png": "[encoded data removed]",
      "text/plain": [
       "<Figure size 1080x720 with 1 Axes>"
      ]
     },
     "metadata": {
      "needs_background": "light"
     },
     "output_type": "display_data"
    }
   ],
   "source": [
    "plt.figure(figsize=(15,10))\n",
    "plt.plot(scale, accuracy['MNB'], label='Multinomial NB', marker='o')\n",
    "plt.plot(scale, accuracy['LSVC'], label='Linear SVC', marker='o')\n",
    "plt.plot(scale, accuracy['SGD'], label='SGD Classifier', marker='o')\n",
    "\n",
    "plt.xlabel('Training Scale(%)')\n",
    "plt.ylabel('Accuracy(%)')\n",
    "plt.title('Scale vs. Accuracy')\n",
    "plt.legend(loc='center left', bbox_to_anchor=(1, 0.5))\n",
    "\n",
    "# zip joins x and y coordinates in pairs\n",
    "for x,y in zip(scale,accuracy['MNB']):\n",
    "\n",
    "    label = \"{:.3f}\".format(y)\n",
    "    \n",
    "    plt.annotate(label, # this is the text\n",
    "                 (x,y), # this is the point to label\n",
    "                 textcoords=\"offset points\", # how to position the text\n",
    "                 xytext=(0,10), # distance from text to points (x,y)\n",
    "                 ha='center') # horizontal alignment can be left, right or center\n",
    "\n",
    "for x,y in zip(scale,accuracy['LSVC']):\n",
    "    label = \"{:.3f}\".format(y)\n",
    "    plt.annotate(label,\n",
    "                 (x,y), \n",
    "                 textcoords=\"offset points\", \n",
    "                 xytext=(0,-15), \n",
    "                 ha='center')\n",
    "    \n",
    "for x,y in zip(scale,accuracy['SGD']):\n",
    "    label = \"{:.3f}\".format(y)\n",
    "    plt.annotate(label,\n",
    "                 (x,y), \n",
    "                 textcoords=\"offset points\", \n",
    "                 xytext=(0,10), \n",
    "                 ha='center')"
   ]
  },
  {
   "cell_type": "markdown",
   "metadata": {},
   "source": [
    "# Time vs. Accuracy"
   ]
  },
  {
   "cell_type": "code",
   "execution_count": 147,
   "metadata": {},
   "outputs": [
    {
     "data": {
      "text/plain": [
       "<matplotlib.legend.Legend at 0x7f8194ffed90>"
      ]
     },
     "execution_count": 147,
     "metadata": {},
     "output_type": "execute_result"
    },
    {
     "data": {
      "image/png": "[encoded data removed]",
      "text/plain": [
       "<Figure size 720x360 with 1 Axes>"
      ]
     },
     "metadata": {
      "needs_background": "light"
     },
     "output_type": "display_data"
    }
   ],
   "source": [
    "plt.figure(figsize=(10,5))\n",
    "\n",
    "plt.scatter(time['SGD'], accuracy['SGD'], label='SGD Classifier' )\n",
    "plt.scatter(time['MNB'], accuracy['MNB'], label='Multinomial NB', color='red')\n",
    "plt.scatter(time['LSVC'], accuracy['LSVC'], label='Linear SVC', color='green')\n",
    "\n",
    "plt.xlabel('Time(s)')\n",
    "plt.ylabel('Accuracy(%)')\n",
    "plt.title('Time vs. Accuracy')\n",
    "plt.legend()"
   ]
  },
  {
   "cell_type": "code",
   "execution_count": null,
   "metadata": {},
   "outputs": [],
   "source": []
  }
 ],
 "metadata": {
  "kernelspec": {
   "display_name": "Python 3",
   "language": "python",
   "name": "python3"
  },
  "language_info": {
   "codemirror_mode": {
    "name": "ipython",
    "version": 3
   },
   "file_extension": ".py",
   "mimetype": "text/x-python",
   "name": "python",
   "nbconvert_exporter": "python",
   "pygments_lexer": "ipython3",
   "version": "3.7.6"
  }
 },
 "nbformat": 4,
 "nbformat_minor": 4
}
